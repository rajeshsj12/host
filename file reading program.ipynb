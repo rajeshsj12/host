{
 "cells": [
  {
   "cell_type": "code",
   "execution_count": 62,
   "id": "dc9977d5",
   "metadata": {},
   "outputs": [
    {
     "name": "stdout",
     "output_type": "stream",
     "text": [
      "hello this is the text     file contains words and punchuations \"will this work done!\"\n",
      "lets do this OK \"added words like :hello \"wolrd >I \"can\" do this \"this is the TEST/ test is \"eaSy\n"
     ]
    }
   ],
   "source": [
    "with open(\"text_file.txt\",\"r\") as file_object:\n",
    "    file_content = file_object.read()\n",
    "print(file_content)"
   ]
  },
  {
   "cell_type": "code",
   "execution_count": 63,
   "id": "50942331",
   "metadata": {},
   "outputs": [
    {
     "data": {
      "text/plain": [
       "['hello',\n",
       " 'this',\n",
       " 'is',\n",
       " 'the',\n",
       " 'text',\n",
       " '',\n",
       " '',\n",
       " '',\n",
       " '',\n",
       " 'file',\n",
       " 'contains',\n",
       " 'words',\n",
       " 'and',\n",
       " 'punchuations',\n",
       " 'will',\n",
       " 'this',\n",
       " 'work',\n",
       " 'done',\n",
       " 'lets',\n",
       " 'do',\n",
       " 'this',\n",
       " 'ok',\n",
       " 'added',\n",
       " 'words',\n",
       " 'like',\n",
       " 'hello',\n",
       " 'wolrd',\n",
       " 'i',\n",
       " 'can',\n",
       " 'do',\n",
       " 'this',\n",
       " 'this',\n",
       " 'is',\n",
       " 'the',\n",
       " 'test',\n",
       " 'test',\n",
       " 'is',\n",
       " 'easy']"
      ]
     },
     "execution_count": 63,
     "metadata": {},
     "output_type": "execute_result"
    }
   ],
   "source": [
    "file_content = file_content.replace(\"\\n\",\" \").lower()\n",
    "text_content = \"\"\n",
    "alp = \"qwertyuiopasdfghjklzxcvbnm \"\n",
    "for i in file_content:\n",
    "    if i in alp:\n",
    "        text_content += i\n",
    "text_content = text_content.split(\" \")\n",
    "text_content"
   ]
  },
  {
   "cell_type": "code",
   "execution_count": 64,
   "id": "8a7d316e",
   "metadata": {},
   "outputs": [
    {
     "data": {
      "text/plain": [
       "{'hello': 2,\n",
       " 'this': 5,\n",
       " 'is': 3,\n",
       " 'the': 2,\n",
       " 'text': 1,\n",
       " 'file': 1,\n",
       " 'contains': 1,\n",
       " 'words': 2,\n",
       " 'and': 1,\n",
       " 'punchuations': 1,\n",
       " 'will': 1,\n",
       " 'work': 1,\n",
       " 'done': 1,\n",
       " 'lets': 1,\n",
       " 'do': 2,\n",
       " 'ok': 1,\n",
       " 'added': 1,\n",
       " 'like': 1,\n",
       " 'wolrd': 1,\n",
       " 'i': 1,\n",
       " 'can': 1,\n",
       " 'test': 2,\n",
       " 'easy': 1}"
      ]
     },
     "execution_count": 64,
     "metadata": {},
     "output_type": "execute_result"
    }
   ],
   "source": [
    "text_freq = dict()\n",
    "for i in text_content:\n",
    "    if i == \" \" or i==\"\":\n",
    "        pass\n",
    "    elif i in text_freq:\n",
    "        text_freq[i] += 1\n",
    "    else:\n",
    "        text_freq[i] = 1\n",
    "\n",
    "text_freq"
   ]
  },
  {
   "cell_type": "code",
   "execution_count": 65,
   "id": "141bd167",
   "metadata": {},
   "outputs": [
    {
     "data": {
      "text/plain": [
       "[5, 3, 2, 2, 2, 2, 2, 1, 1, 1, 1, 1, 1, 1, 1, 1, 1, 1, 1, 1, 1, 1, 1]"
      ]
     },
     "execution_count": 65,
     "metadata": {},
     "output_type": "execute_result"
    }
   ],
   "source": [
    "val = []\n",
    "c =0\n",
    "for i in text_freq.values():\n",
    "    # print(i)\n",
    "    # if i > c:\n",
    "    #     c = i\n",
    "    val.append(i)\n",
    "val.sort()\n",
    "val = val[::-1]\n",
    "val"
   ]
  },
  {
   "cell_type": "code",
   "execution_count": 76,
   "id": "841beb5c",
   "metadata": {},
   "outputs": [
    {
     "data": {
      "text/plain": [
       "{'this': 5,\n",
       " 'is': 3,\n",
       " 'hello': 2,\n",
       " 'the': 2,\n",
       " 'words': 2,\n",
       " 'do': 2,\n",
       " 'test': 2,\n",
       " 'text': 1,\n",
       " 'file': 1,\n",
       " 'contains': 1,\n",
       " 'and': 1,\n",
       " 'punchuations': 1,\n",
       " 'will': 1,\n",
       " 'work': 1,\n",
       " 'done': 1,\n",
       " 'lets': 1,\n",
       " 'ok': 1,\n",
       " 'added': 1,\n",
       " 'like': 1,\n",
       " 'wolrd': 1,\n",
       " 'i': 1,\n",
       " 'can': 1,\n",
       " 'easy': 1}"
      ]
     },
     "execution_count": 76,
     "metadata": {},
     "output_type": "execute_result"
    }
   ],
   "source": [
    "target = dict()\n",
    "\n",
    "for i in val:\n",
    "    for k,v in text_freq.items():\n",
    "        if v == i:\n",
    "            target[k] = v\n",
    "target"
   ]
  },
  {
   "cell_type": "code",
   "execution_count": 82,
   "id": "9a60ebd2",
   "metadata": {},
   "outputs": [
    {
     "name": "stdout",
     "output_type": "stream",
     "text": [
      "Top 5 repeated text\n",
      "'this' word repeated 5 times\n",
      "'is' word repeated 3 times\n",
      "'hello' word repeated 2 times\n",
      "'the' word repeated 2 times\n",
      "'words' word repeated 2 times\n"
     ]
    }
   ],
   "source": [
    "try:\n",
    "    counter = 1\n",
    "    print(\"Top 5 repeated text\")\n",
    "    for k,v in target.items():\n",
    "        print(f\"'{k}' word repeated {v} times\")\n",
    "        counter += 1\n",
    "        if counter > 5:\n",
    "            break\n",
    "except:\n",
    "    print(\"Word is less than 5\")\n"
   ]
  }
 ],
 "metadata": {
  "kernelspec": {
   "display_name": "Python 3",
   "language": "python",
   "name": "python3"
  },
  "language_info": {
   "codemirror_mode": {
    "name": "ipython",
    "version": 3
   },
   "file_extension": ".py",
   "mimetype": "text/x-python",
   "name": "python",
   "nbconvert_exporter": "python",
   "pygments_lexer": "ipython3",
   "version": "3.13.6"
  }
 },
 "nbformat": 4,
 "nbformat_minor": 5
}
